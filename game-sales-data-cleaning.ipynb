{
 "cells": [
  {
   "cell_type": "markdown",
   "metadata": {},
   "source": [
    "# JUMPlus Python Project 4\n",
    "\n",
    "## Video Game Sales Basic Data Cleaning\n",
    "\n",
    "### by Nicholas Crossman\n",
    "\n",
    "In this project, we've been given a dataset with some missing values. \n",
    "\n",
    "Collecting data in the real world is often messy, and some records will be incomplete. It's essential as a data engineer to know how to deal with these missing values. \n",
    "\n",
    "There are more advanced techniques like imputing missing values, which tries to fill in missing columns using machine learning. However, that's beyond the scope of this practice project. In this case, we're just going to try and understand which values are missing, and which columns we can keep and which we should ignore."
   ]
  },
  {
   "cell_type": "code",
   "execution_count": null,
   "metadata": {},
   "outputs": [],
   "source": []
  }
 ],
 "metadata": {
  "language_info": {
   "name": "python"
  },
  "orig_nbformat": 4
 },
 "nbformat": 4,
 "nbformat_minor": 2
}
